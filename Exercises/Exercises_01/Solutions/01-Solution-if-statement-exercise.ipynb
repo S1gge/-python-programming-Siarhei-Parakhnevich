{
 "cells": [
  {
   "cell_type": "code",
   "execution_count": 32,
   "metadata": {},
   "outputs": [
    {
     "name": "stdout",
     "output_type": "stream",
     "text": [
      "The number is positive.\n"
     ]
    }
   ],
   "source": [
    "#1. Check sign.\n",
    "\n",
    "number = float(input(\"Input a number: \"))\n",
    "if number < 0:\n",
    "    print (\"The number is negative.\")\n",
    "elif number > 0:\n",
    "    print (\"The number is positive.\")\n",
    "else:\n",
    "    print (\"The number is zero.\")"
   ]
  },
  {
   "cell_type": "code",
   "execution_count": 34,
   "metadata": {},
   "outputs": [
    {
     "name": "stdout",
     "output_type": "stream",
     "text": [
      "Number 4 is the smallest.\n"
     ]
    }
   ],
   "source": [
    "#2. Smallest.\n",
    "\n",
    "number1 = float(input(\"Input a first number: \"))\n",
    "number2 = float(input(\"Input a second number: \"))\n",
    "if number1 > number2:\n",
    "    print(f\"Number {number2:.0f} is the smallest.\")\n",
    "else:\n",
    "    print(f\"Number {number1:.0f} is the smallest.\")"
   ]
  },
  {
   "cell_type": "code",
   "execution_count": 35,
   "metadata": {},
   "outputs": [
    {
     "name": "stdout",
     "output_type": "stream",
     "text": [
      "Input three angles of the triangel so that their sum is 180 degrees.\n",
      "The triangel has a right angle.\n"
     ]
    }
   ],
   "source": [
    "#3. Right angle.\n",
    "\n",
    "print(\"Input three angles of the triangel so that their sum is 180 degrees.\")\n",
    "angle1 = int(input(\"Enter the first angel: \"))\n",
    "angle2 = int(input(\"Enter the second angel: \"))\n",
    "angle3 = int(input(\"Enter the third angel: \"))\n",
    "sum = angle1+angle2+angle3\n",
    "\n",
    "if sum == 180:\n",
    "    if angle1==90 or angle2==90 or angle3==90:\n",
    "        print(\"The triangel has a right angle.\")\n",
    "    else:\n",
    "        print(\"The triangel has not a right angle.\")\n",
    "else:\n",
    "    print(\"The sum of the angles is not 180 degrees.\")"
   ]
  },
  {
   "cell_type": "code",
   "execution_count": 18,
   "metadata": {},
   "outputs": [
    {
     "name": "stdout",
     "output_type": "stream",
     "text": [
      "Give patient 1/2 pills.\n"
     ]
    }
   ],
   "source": [
    "#4. Medicine.\n",
    "\n",
    "age = int(input(\"Input an age:\"))\n",
    "weight = int(input(\"Input a weight:\"))\n",
    "\n",
    "if age > 12 and weight > 40:\n",
    "    print(\"Give patient 1-2 pills.\")\n",
    "elif weight >= 26 and weight <= 40:\n",
    "    print(\"Give patient 1/2-1 pills.\")\n",
    "elif weight >= 15 and weight <= 25:\n",
    "    print(\"Give patient 1/2 pills.\")\n",
    "else:\n",
    "    print(\"You should talk with your doctor.\")"
   ]
  },
  {
   "cell_type": "code",
   "execution_count": 28,
   "metadata": {},
   "outputs": [
    {
     "name": "stdout",
     "output_type": "stream",
     "text": [
      "The number 15 is odd.\n",
      "The number 15 is divisible by 5.\n",
      "The number is devisible by 5 an odd.\n"
     ]
    }
   ],
   "source": [
    "#5. Divisible.\n",
    "\n",
    "number = int(input(\"Input a number.\"))\n",
    "\n",
    "if number%2 == 0:\n",
    "    print(f\"The number {number} is even.\")\n",
    "else:\n",
    "    print(f\"The number {number} is odd.\")\n",
    "if number%5 == 0:\n",
    "    print(f\"The number {number} is divisible by 5.\")\n",
    "if number% 5 == 0 and number%2 != 0:\n",
    "    print(f\"The number is {number} devisible by 5 an odd.\")"
   ]
  },
  {
   "cell_type": "code",
   "execution_count": 5,
   "metadata": {},
   "outputs": [
    {
     "name": "stdout",
     "output_type": "stream",
     "text": [
      "The luggage is not allowed.\n"
     ]
    }
   ],
   "source": [
    "#6. Luggage size.\n",
    "\n",
    "weight = float(input(\"Input a weight of the luggage: \"))\n",
    "length = float(input(\"Input a length of the luggage: \"))\n",
    "width = float(input(\"Input a width of the luggage: \"))\n",
    "height = float(input(\"Input a height of the luggage: \"))\n",
    "\n",
    "if weight>8 or length>55 or width>40 or height>23:\n",
    "    print(\"The luggage is not allowed.\")\n",
    "else:\n",
    "    print(\"The luggage is allowed.\")"
   ]
  }
 ],
 "metadata": {
  "kernelspec": {
   "display_name": ".venv",
   "language": "python",
   "name": "python3"
  },
  "language_info": {
   "codemirror_mode": {
    "name": "ipython",
    "version": 3
   },
   "file_extension": ".py",
   "mimetype": "text/x-python",
   "name": "python",
   "nbconvert_exporter": "python",
   "pygments_lexer": "ipython3",
   "version": "3.12.6"
  }
 },
 "nbformat": 4,
 "nbformat_minor": 2
}
