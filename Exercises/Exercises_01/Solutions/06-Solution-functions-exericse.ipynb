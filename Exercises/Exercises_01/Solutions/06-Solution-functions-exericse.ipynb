{
 "cells": [
  {
   "cell_type": "code",
   "execution_count": 1,
   "metadata": {},
   "outputs": [
    {
     "name": "stdout",
     "output_type": "stream",
     "text": [
      "7.5\n"
     ]
    }
   ],
   "source": [
    "#1. Area.\n",
    "\n",
    "def area (base, height):\n",
    "    area_triangle = base*height/2\n",
    "    return area_triangle\n",
    "\n",
    "print(area(3,5))"
   ]
  },
  {
   "cell_type": "code",
   "execution_count": 5,
   "metadata": {},
   "outputs": [
    {
     "name": "stdout",
     "output_type": "stream",
     "text": [
      "6.4031242374328485\n"
     ]
    }
   ],
   "source": [
    "#2a. Euclidean distance.\n",
    "\n",
    "import numpy as np\n",
    "\n",
    "def distance (p1,p2,q1,q2):\n",
    "    eucl_dist = np.sqrt(np.power((p1-q1),2) + np.power((p2-q2),2))\n",
    "    return eucl_dist\n",
    "\n",
    "print(distance(10,7,5,3))\n"
   ]
  },
  {
   "cell_type": "code",
   "execution_count": 6,
   "metadata": {},
   "outputs": [
    {
     "name": "stdout",
     "output_type": "stream",
     "text": [
      "6.4031242374328485\n"
     ]
    }
   ],
   "source": [
    "#2b. Euclidean distance.\n",
    "\n",
    "import numpy as np\n",
    "\n",
    "p1 = float(input(\"Enter the first coordinate of the first point: \"))\n",
    "p2 = float(input(\"Enter the second coordinate of the first point: \"))\n",
    "q1 = float(input(\"Enter the first coordinate of the second point: \"))\n",
    "q2 = float(input(\"Enter the second coordinate of the second point: \"))\n",
    "\n",
    "\n",
    "def distance (p1,p2,q1,q2):\n",
    "    eucl_dist = np.sqrt(np.power((p1-q1),2) + np.power((p2-q2),2))\n",
    "    return eucl_dist\n",
    "\n",
    "print(distance(p1,p2,q1,q2))\n"
   ]
  },
  {
   "cell_type": "code",
   "execution_count": 16,
   "metadata": {},
   "outputs": [
    {
     "name": "stdout",
     "output_type": "stream",
     "text": [
      "[np.float64(12.206555615733702), np.float64(12.206555615733702), np.float64(12.206555615733702), np.float64(12.206555615733702), np.float64(12.206555615733702)]\n"
     ]
    }
   ],
   "source": [
    "#2c. Euclidean distance.\n",
    "\n",
    "import numpy as np\n",
    "\n",
    "def distance (*args):\n",
    "    list = []\n",
    "    for arg in args:\n",
    "        eucl_dist = np.sqrt(np.power((p1-0),2) + np.power((p2-0),2))\n",
    "        list.append(eucl_dist)\n",
    "    return list\n",
    "\n",
    "print(distance((10,3),(-1,-9),(10,-10),(4,-2),(9,-10)))\n"
   ]
  }
 ],
 "metadata": {
  "kernelspec": {
   "display_name": ".venv",
   "language": "python",
   "name": "python3"
  },
  "language_info": {
   "codemirror_mode": {
    "name": "ipython",
    "version": 3
   },
   "file_extension": ".py",
   "mimetype": "text/x-python",
   "name": "python",
   "nbconvert_exporter": "python",
   "pygments_lexer": "ipython3",
   "version": "3.12.6"
  }
 },
 "nbformat": 4,
 "nbformat_minor": 2
}
