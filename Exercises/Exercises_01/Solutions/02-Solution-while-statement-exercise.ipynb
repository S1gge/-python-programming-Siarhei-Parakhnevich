{
 "cells": [
  {
   "cell_type": "code",
   "execution_count": 7,
   "metadata": {},
   "outputs": [
    {
     "name": "stdout",
     "output_type": "stream",
     "text": [
      "-10 -9 -8 -7 -6 -5 -4 -3 -2 -1 0 1 2 3 4 5 6 7 8 9 10 "
     ]
    }
   ],
   "source": [
    "#1. Count numbers.\n",
    "\n",
    "n = -10\n",
    "while n <=10:\n",
    "    print(n, end = \" \")\n",
    "    n+=1"
   ]
  },
  {
   "cell_type": "code",
   "execution_count": 1,
   "metadata": {},
   "outputs": [
    {
     "name": "stdout",
     "output_type": "stream",
     "text": [
      "1 + 2 + 3 + 4 + 5 + 6 + 7 + 8 + 9 + 10 + 11 + 12 + 13 + 14 + 15 + 16 + 17 + 18 + 19 + 20 + 21 + 22 + 23 + 24 + 25 + 26 + 27 + 28 + 29 + 30 + 31 + 32 + 33 + 34 + 35 + 36 + 37 + 38 + 39 + 40 + 41 + 42 + 43 + 44 + 45 + 46 + 47 + 48 + 49 + 50 + 51 + 52 + 53 + 54 + 55 + 56 + 57 + 58 + 59 + 60 + 61 + 62 + 63 + 64 + 65 + 66 + 67 + 68 + 69 + 70 + 71 + 72 + 73 + 74 + 75 + 76 + 77 + 78 + 79 + 80 + 81 + 82 + 83 + 84 + 85 + 86 + 87 + 88 + 89 + 90 + 91 + 92 + 93 + 94 + 95 + 96 + 97 + 98 + 99 + 100 = 5050"
     ]
    }
   ],
   "source": [
    "#2a. Arithmetic sum???\n",
    "\n",
    "number = 0\n",
    "sum = 0\n",
    "while number<100:\n",
    "    number+=1\n",
    "    sum = sum + number\n",
    "\n",
    "    print(number, end=\"\")\n",
    "    if number != 100:\n",
    "        print(\" + \", end=\"\")\n",
    "\n",
    "    if number == 100:\n",
    "        print(f\" = {sum}\", end=\"\")"
   ]
  },
  {
   "cell_type": "code",
   "execution_count": 4,
   "metadata": {},
   "outputs": [
    {
     "name": "stdout",
     "output_type": "stream",
     "text": [
      "1 + 3 + 5 + 7 + 9 + 11 + 13 + 15 + 17 + 19 + 21 + 23 + 25 + 27 + 29 + 31 + 33 + 35 + 37 + 39 + 41 + 43 + 45 + 47 + 49 + 51 + 53 + 55 + 57 + 59 + 61 + 63 + 65 + 67 + 69 + 71 + 73 + 75 + 77 + 79 + 81 + 83 + 85 + 87 + 89 + 91 + 93 + 95 + 97 + 99 = 2500"
     ]
    }
   ],
   "source": [
    "#2b. Euclidean distance???\n",
    "\n",
    "number = -1\n",
    "sum = 0\n",
    "while number < 99:\n",
    "    number+=2\n",
    "    sum = sum + number\n",
    "    print(number, end=\"\")\n",
    "    if number != 99:\n",
    "        print(\" + \", end=\"\")\n",
    "\n",
    "    if number == 99:\n",
    "        print(f\" = {sum}\", end=\"\")\n"
   ]
  },
  {
   "cell_type": "code",
   "execution_count": 10,
   "metadata": {},
   "outputs": [
    {
     "name": "stdout",
     "output_type": "stream",
     "text": [
      "11\n",
      "Enter a number to gess: \n",
      "Congratulations player! 11 is the correct answer.\n",
      "Game over.\n"
     ]
    }
   ],
   "source": [
    "#3a. Guess number game.\n",
    "\n",
    "import random as rnd\n",
    "guesses = 0\n",
    "num_rand = rnd.randint(1,100)\n",
    "print (num_rand)\n",
    "while True:\n",
    "        user_g = int(input(print(\"Enter a number to gess: \")))\n",
    "        guesses+=1\n",
    "        if num_rand == user_g:\n",
    "            print (f\"Congratulations player! {user_g} is the correct answer.\")\n",
    "            print (\"Game over.\")\n",
    "            break\n",
    "        else: \n",
    "            print (f\"The {user_g} is wrong. Try one more time.\")\n",
    "        print(f\"Number of guesses: {guesses}\")\n",
    "        if user_g > num_rand:\n",
    "            print(\"It's to high. Try again.\")\n",
    "        else:\n",
    "            print(\"It's to low. Try again.\")"
   ]
  },
  {
   "cell_type": "code",
   "execution_count": 6,
   "metadata": {},
   "outputs": [
    {
     "name": "stdout",
     "output_type": "stream",
     "text": [
      "37\n",
      "37 is the correct answer.\n"
     ]
    }
   ],
   "source": [
    "#3b. Guess number game.\n",
    "import random as rnd\n",
    "\n",
    "num_rand = rnd.randint(1,100)\n",
    "low = 0\n",
    "high = 100\n",
    "print (num_rand)\n",
    "\n",
    "while low <= high:\n",
    "    mid = (low + high)//2\n",
    "    if mid == num_rand:\n",
    "        print(f\"{mid} is the correct answer.\")\n",
    "        break\n",
    "    elif mid > num_rand:\n",
    "        high-=1\n",
    "    else:\n",
    "        low+=1\n",
    "    \n",
    "\n",
    "\n"
   ]
  },
  {
   "cell_type": "code",
   "execution_count": 12,
   "metadata": {},
   "outputs": [
    {
     "name": "stdout",
     "output_type": "stream",
     "text": [
      "Good work!\n",
      "Good bye!\n"
     ]
    }
   ],
   "source": [
    "#4a. Multiplication game.\n",
    "\n",
    "import random as rnd\n",
    "\n",
    "while True:\n",
    "    num_rand1 = rnd.randint(1,10)\n",
    "    num_rand2 = rnd.randint(1,10)\n",
    "    ans=num_rand1*num_rand2\n",
    "    user_answer = int(input(f\"What is {num_rand1} * {num_rand2} ?  \"))\n",
    "    if user_answer==num_rand1*num_rand2:\n",
    "        print(\"Good work!\")\n",
    "    else:\n",
    "        print(f\"Sorry, you made a mistake. Correct answer is {ans}.\")\n",
    "    \n",
    "    play_again = input(\"Want to play again? (y for yes) \")\n",
    "    if play_again!=\"y\":\n",
    "        print(\"Good bye!\")\n",
    "        break\n"
   ]
  },
  {
   "cell_type": "code",
   "execution_count": null,
   "metadata": {},
   "outputs": [],
   "source": [
    "#4b. Multiplication game.\n",
    "\n",
    "import random as rnd\n",
    "while True:      \n",
    "    print(\"=== Multiplication game ===\\n\")\n",
    "    print(\"========== Meny ===========\\n\")\n",
    "    print(\"1. Multiplication of one-digits numbers.\\n\"\n",
    "          \"2. Multiplication of two-digits numbers.\\n\"\n",
    "          \"3. Multiplication of three-digits numbers.\\n\")\n",
    "    choise = int(input(\"Chose difficulti level of the game (1-3): \"))\n",
    "\n",
    "    if choise == 1:\n",
    "        while True:\n",
    "            num_rand1 = rnd.randint(1,9)\n",
    "            num_rand2 = rnd.randint(1,9)\n",
    "            ans=num_rand1*num_rand2\n",
    "            user_answer = int(input(f\"What is {num_rand1} * {num_rand2} ?  \"))\n",
    "            if user_answer==num_rand1*num_rand2:\n",
    "              print(\"Good work!\")\n",
    "            else:\n",
    "              print(f\"Sorry, you made a mistake. Correct answer is {ans}.\")\n",
    "\n",
    "            play_again = input(\"Want to play again? (y for yes) \")\n",
    "            if play_again!=\"y\":\n",
    "              print(\"Good bye!\")\n",
    "              break\n",
    "            else:\n",
    "               play_dif = input(\"Do yoy want to change difficulty level? (y for yes) \")\n",
    "               if play_dif == \"y\":\n",
    "                  break\n",
    "    if choise == 2:\n",
    "        while True:\n",
    "            num_rand1 = rnd.randint(10,99)\n",
    "            num_rand2 = rnd.randint(10,99)\n",
    "            ans=num_rand1*num_rand2\n",
    "            user_answer = int(input(f\"What is {num_rand1} * {num_rand2} ?  \"))\n",
    "            if user_answer==num_rand1*num_rand2:\n",
    "              print(\"Good work!\")\n",
    "            else:\n",
    "              print(f\"Sorry, you made a mistake. Correct answer is {ans}.\")\n",
    "\n",
    "            play_again = input(\"Want to play again? (y for yes) \")\n",
    "            if play_again!=\"y\":\n",
    "              print(\"Good bye!\")\n",
    "              break\n",
    "            else:\n",
    "               play_dif = input(\"Do yoy want to change difficulty level? (y for yes) \")\n",
    "               if play_dif == \"y\":\n",
    "                  break\n",
    "    if choise == 3:\n",
    "        while True:\n",
    "            num_rand1 = rnd.randint(100,999)\n",
    "            num_rand2 = rnd.randint(100,999)\n",
    "            ans=num_rand1*num_rand2\n",
    "            user_answer = int(input(f\"What is {num_rand1} * {num_rand2} ?  \"))\n",
    "            if user_answer==num_rand1*num_rand2:\n",
    "              print(\"Good work!\")\n",
    "            else:\n",
    "              print(f\"Sorry, you made a mistake. Correct answer is {ans}.\")\n",
    "\n",
    "            play_again = input(\"Want to play again? (y for yes) \")\n",
    "            if play_again!=\"y\":\n",
    "              print(\"Good bye!\")\n",
    "              break\n",
    "            else:\n",
    "               play_dif = input(\"Do yoy want to change difficulty level? (y for yes) \")\n",
    "               if play_dif == \"y\":\n",
    "                  break"
   ]
  },
  {
   "cell_type": "code",
   "execution_count": 5,
   "metadata": {},
   "outputs": [
    {
     "name": "stdout",
     "output_type": "stream",
     "text": [
      "2.0\n"
     ]
    }
   ],
   "source": [
    "#5a. Check convergence.\n",
    "\n",
    "n = 100000\n",
    "k,s= 0,0\n",
    "while k<= n:\n",
    "    s+=1/2**k\n",
    "    k+=1\n",
    "print(s)"
   ]
  },
  {
   "cell_type": "code",
   "execution_count": 4,
   "metadata": {},
   "outputs": [
    {
     "name": "stdout",
     "output_type": "stream",
     "text": [
      "Number of iterations: 1000002\n",
      " sum: 0.7854 or 0.2500pi\n"
     ]
    }
   ],
   "source": [
    "#5b. Check convergence.\n",
    "\n",
    "import numpy as np\n",
    "\n",
    "def term(n):\n",
    "    return np.divide(np.float_power((-1), n), 2*n+1)\n",
    "\n",
    "v = 0\n",
    "n = 0\n",
    "acc = 0\n",
    "e = 1\n",
    "\n",
    "while e > np.float_power(10,-6):\n",
    "    prev = v\n",
    "    v = term(n)\n",
    "    e = np.absolute(prev - v)\n",
    "    acc += v\n",
    "    n += 1\n",
    "\n",
    "print(f\"Number of iterations: {n}\\n sum: {acc:.4f} or {np.divide(acc, np.pi):.4f}pi\")"
   ]
  },
  {
   "cell_type": "code",
   "execution_count": 10,
   "metadata": {},
   "outputs": [
    {
     "name": "stdout",
     "output_type": "stream",
     "text": [
      "sum 0.7879 or 0.2508pi\n"
     ]
    }
   ],
   "source": [
    "#5b.2\n",
    "\n",
    "import numpy as np\n",
    "X = np.arange(101)\n",
    "s = np.sum(term(X))\n",
    "print(f\"sum {s:.4f} or {np.divide(s, np.pi):.4f}pi\")"
   ]
  },
  {
   "cell_type": "code",
   "execution_count": 9,
   "metadata": {},
   "outputs": [
    {
     "name": "stdout",
     "output_type": "stream",
     "text": [
      "Number of iterations: 101.0000\n",
      " sum: 0.7879 or 0.2508pi\n"
     ]
    }
   ],
   "source": [
    "#5b.3\n",
    "\n",
    "n = 100\n",
    "k = 0\n",
    "sum = 0\n",
    "while k<= n:\n",
    "    sum+=(-1)**k/(2*k+1)\n",
    "    k+=1\n",
    "print(f\"Number of iterations: {k:.4f}\\n sum: {sum:.4f} or {np.divide(sum, np.pi):.4f}pi\")"
   ]
  }
 ],
 "metadata": {
  "kernelspec": {
   "display_name": ".venv",
   "language": "python",
   "name": "python3"
  },
  "language_info": {
   "codemirror_mode": {
    "name": "ipython",
    "version": 3
   },
   "file_extension": ".py",
   "mimetype": "text/x-python",
   "name": "python",
   "nbconvert_exporter": "python",
   "pygments_lexer": "ipython3",
   "version": "3.12.6"
  }
 },
 "nbformat": 4,
 "nbformat_minor": 2
}
