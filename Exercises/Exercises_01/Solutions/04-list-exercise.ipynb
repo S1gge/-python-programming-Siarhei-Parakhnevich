{
 "cells": [
  {
   "cell_type": "code",
   "execution_count": 14,
   "metadata": {},
   "outputs": [
    {
     "name": "stdout",
     "output_type": "stream",
     "text": [
      "Dice rolls list: [2, 6, 4, 6, 3, 3, 2, 2, 3, 6].\n",
      "Dice rolls list in ascending order: [2, 2, 2, 3, 3, 3, 4, 6, 6, 6]\n",
      "Dice rolls list in descending order: [6, 6, 6, 4, 3, 3, 3, 2, 2, 2]\n",
      "Maximum value: 6\n",
      "Minimum value: 2\n"
     ]
    }
   ],
   "source": [
    "#1.Dice rolls.\n",
    "\n",
    "import random as rnd\n",
    "dice_rolls = 10\n",
    "ls_dice =[]\n",
    "\n",
    "for i in range(dice_rolls):\n",
    "    dice = rnd.randint(1,6)\n",
    "    ls_dice.append(dice)\n",
    "ls_dice_sort = sorted(ls_dice)\n",
    "ls_dice_sort_reverse = sorted(ls_dice, reverse=True)\n",
    "\n",
    "print(f\"Dice rolls list: {ls_dice}.\")\n",
    "print(f\"Dice rolls list in ascending order: {ls_dice_sort}\")\n",
    "print(f\"Dice rolls list in descending order: {ls_dice_sort_reverse}\")\n",
    "print(f\"Maximum value: {max(ls_dice)}\")\n",
    "print(f\"Minimum value: {min(ls_dice)}\")"
   ]
  },
  {
   "cell_type": "code",
   "execution_count": 7,
   "metadata": {},
   "outputs": [
    {
     "name": "stdout",
     "output_type": "stream",
     "text": [
      "[4, 2, 2, 3, 1, 3, 1, 3, 4, 2]\n"
     ]
    }
   ],
   "source": [
    "#1.1 Dice rolls. List comprehension.\n",
    "\n",
    "import random as rnd\n",
    "dice_rolls = 10\n",
    "ls_dice = [rnd.randint(1,6) for i in range(dice_rolls)]\n",
    "print(ls_dice)"
   ]
  },
  {
   "cell_type": "code",
   "execution_count": 15,
   "metadata": {},
   "outputs": [
    {
     "name": "stdout",
     "output_type": "stream",
     "text": [
      "Bambameny\n",
      "Mån: vegetarisk lasagne \n",
      "Tis: spaghetti \n",
      "Ons: fisk \n",
      "Tor: grönsakssoppa \n",
      "Fre: pannkakor \n",
      "\n"
     ]
    }
   ],
   "source": [
    "#2. Food menu.\n",
    "\n",
    "bamba = [\"vegetarisk lasagne\", \"spaghetti\", \"fisk\", \"grönsakssoppa\", \"pannkakor\"]\n",
    "days = [\"Mån\", \"Tis\", \"Ons\", \"Tor\", \"Fre\"]\n",
    "\n",
    "menu = \"Bambameny\\n\"\n",
    "\n",
    "for day, food in zip(days, bamba):\n",
    "    menu += f\"{day}: {food} \\n\"\n",
    "\n",
    "print(menu)"
   ]
  },
  {
   "cell_type": "code",
   "execution_count": null,
   "metadata": {},
   "outputs": [],
   "source": [
    "#3.Squares."
   ]
  }
 ],
 "metadata": {
  "kernelspec": {
   "display_name": "Python 3",
   "language": "python",
   "name": "python3"
  },
  "language_info": {
   "codemirror_mode": {
    "name": "ipython",
    "version": 3
   },
   "file_extension": ".py",
   "mimetype": "text/x-python",
   "name": "python",
   "nbconvert_exporter": "python",
   "pygments_lexer": "ipython3",
   "version": "3.12.6"
  }
 },
 "nbformat": 4,
 "nbformat_minor": 2
}
