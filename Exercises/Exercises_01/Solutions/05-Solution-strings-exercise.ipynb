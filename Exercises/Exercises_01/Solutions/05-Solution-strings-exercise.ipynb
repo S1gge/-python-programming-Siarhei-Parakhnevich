{
 "cells": [
  {
   "cell_type": "code",
   "execution_count": 6,
   "metadata": {},
   "outputs": [
    {
     "name": "stdout",
     "output_type": "stream",
     "text": [
      "The number of letters in the word table is 5.\n"
     ]
    }
   ],
   "source": [
    "#1.a. Counting letter.\n",
    "\n",
    "word = input(\"Input a word: \")\n",
    "print (f\"The number of letters in the word {word} is {len(word)}.\")\n",
    "\n"
   ]
  },
  {
   "cell_type": "code",
   "execution_count": 26,
   "metadata": {},
   "outputs": [
    {
     "name": "stdout",
     "output_type": "stream",
     "text": [
      "The number of uppercase is 1 and the number of lowercase is 4.\n"
     ]
    }
   ],
   "source": [
    "#1.b. Counting letter.\n",
    "\n",
    "word = input(\"Input a word: \")\n",
    "upper = [i for i in word if i.isupper()]\n",
    "lower = [i for i in word if i.islower()]\n",
    "print(f\"The number of uppercase is {len(upper)} and the number of lowercase is {len(lower)}.\")\n",
    "\n"
   ]
  },
  {
   "cell_type": "code",
   "execution_count": 15,
   "metadata": {},
   "outputs": [
    {
     "name": "stdout",
     "output_type": "stream",
     "text": [
      "There are 17 words in that sentence.\n"
     ]
    }
   ],
   "source": [
    "#2. Countong words.\n",
    "string = \"A picture says more than a thousand words, a matematical formula says more than a thousand pictures.\"\n",
    "split = string.split()\n",
    "print(f\"There are {len(split)} words in that sentence.\")"
   ]
  },
  {
   "cell_type": "code",
   "execution_count": 28,
   "metadata": {},
   "outputs": [
    {
     "name": "stdout",
     "output_type": "stream",
     "text": [
      "table\n",
      "The sequence of characters is not a polindrome.\n"
     ]
    }
   ],
   "source": [
    "#3. Polindrome.\n",
    "\n",
    "string = input(\"Input a sequence of characters: \")\n",
    "string_lower = string.lower()\n",
    "if string_lower == string_lower[::-1]:\n",
    "    print(\"The sequence of characters is a polindrome.\")\n",
    "else:\n",
    "    print(\"The sequence of characters is not a polindrome.\")"
   ]
  },
  {
   "cell_type": "code",
   "execution_count": 37,
   "metadata": {},
   "outputs": [
    {
     "name": "stdout",
     "output_type": "stream",
     "text": [
      "There are 22 vowels in this sentencs\n"
     ]
    },
    {
     "ename": "",
     "evalue": "",
     "output_type": "error",
     "traceback": [
      "\u001b[1;31mThe Kernel crashed while executing code in the current cell or a previous cell. \n",
      "\u001b[1;31mPlease review the code in the cell(s) to identify a possible cause of the failure. \n",
      "\u001b[1;31mClick <a href='https://aka.ms/vscodeJupyterKernelCrash'>here</a> for more info. \n",
      "\u001b[1;31mView Jupyter <a href='command:jupyter.viewOutput'>log</a> for further details."
     ]
    }
   ],
   "source": [
    "#4. Vowels.\n",
    "\n",
    "import re\n",
    "\n",
    "string = \"Pure mathematics is, in its way, the poetry of logical ideas.\"\n",
    "vowels = \"AaEeIiOoYyUu\"\n",
    "string_vowels = re.findall(f'[{vowels}]', string)\n",
    "print(f\"There are {len(string_vowels)} vowels in this sentencs\")\n"
   ]
  },
  {
   "cell_type": "code",
   "execution_count": null,
   "metadata": {},
   "outputs": [],
   "source": [
    "#5. Encryption.\n",
    "\n"
   ]
  }
 ],
 "metadata": {
  "kernelspec": {
   "display_name": ".venv",
   "language": "python",
   "name": "python3"
  },
  "language_info": {
   "codemirror_mode": {
    "name": "ipython",
    "version": 3
   },
   "file_extension": ".py",
   "mimetype": "text/x-python",
   "name": "python",
   "nbconvert_exporter": "python",
   "pygments_lexer": "ipython3",
   "version": "3.12.6"
  }
 },
 "nbformat": 4,
 "nbformat_minor": 2
}
