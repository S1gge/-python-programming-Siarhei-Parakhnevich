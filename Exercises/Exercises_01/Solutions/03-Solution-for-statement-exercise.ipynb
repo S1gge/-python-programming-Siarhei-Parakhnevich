{
 "cells": [
  {
   "cell_type": "code",
   "execution_count": 2,
   "metadata": {},
   "outputs": [
    {
     "name": "stdout",
     "output_type": "stream",
     "text": [
      "-10 -9 -8 -7 -6 -5 -4 -3 -2 -1 0 1 2 3 4 5 6 7 8 9 10 "
     ]
    }
   ],
   "source": [
    "#1a. Count numbers.\n",
    "\n",
    "for i in range (-10,11):\n",
    "    print(i, end = \" \")"
   ]
  },
  {
   "cell_type": "code",
   "execution_count": 3,
   "metadata": {},
   "outputs": [
    {
     "name": "stdout",
     "output_type": "stream",
     "text": [
      "-10 -8 -6 -4 -2 0 2 4 6 8 10 "
     ]
    }
   ],
   "source": [
    "#1b. Count numbers.\n",
    "\n",
    "for i in range (-10,11,2):\n",
    "    print(i, end = \" \")"
   ]
  },
  {
   "cell_type": "code",
   "execution_count": 19,
   "metadata": {},
   "outputs": [
    {
     "name": "stdout",
     "output_type": "stream",
     "text": [
      "1 + 2 + 3 + 4 + 5 + 6 + 7 + 8 + 9 + 10 + 11 + 12 + 13 + 14 + 15 + 16 + 17 + 18 + 19 + 20 + 21 + 22 + 23 + 24 + 25 + 26 + 27 + 28 + 29 + 30 + 31 + 32 + 33 + 34 + 35 + 36 + 37 + 38 + 39 + 40 + 41 + 42 + 43 + 44 + 45 + 46 + 47 + 48 + 49 + 50 + 51 + 52 + 53 + 54 + 55 + 56 + 57 + 58 + 59 + 60 + 61 + 62 + 63 + 64 + 65 + 66 + 67 + 68 + 69 + 70 + 71 + 72 + 73 + 74 + 75 + 76 + 77 + 78 + 79 + 80 + 81 + 82 + 83 + 84 + 85 + 86 + 87 + 88 + 89 + 90 + 91 + 92 + 93 + 94 + 95 + 96 + 97 + 98 + 99 + 100 = 5050"
     ]
    }
   ],
   "source": [
    "#2a. Arithmetic sum.\n",
    "\n",
    "sum = 0\n",
    "for i in range (1,101):\n",
    "    sum = sum + i\n",
    "\n",
    "    print(i, end=\"\")\n",
    "    if i != 100:\n",
    "        print(\" + \", end=\"\")\n",
    "\n",
    "    if i == 100:\n",
    "        print(f\" = {sum}\", end=\"\")"
   ]
  },
  {
   "cell_type": "code",
   "execution_count": 3,
   "metadata": {},
   "outputs": [
    {
     "name": "stdout",
     "output_type": "stream",
     "text": [
      "1 + 3 + 5 + 7 + 9 + 11 + 13 + 15 + 17 + 19 + 21 + 23 + 25 + 27 + 29 + 31 + 33 + 35 + 37 + 39 + 41 + 43 + 45 + 47 + 49 + 51 + 53 + 55 + 57 + 59 + 61 + 63 + 65 + 67 + 69 + 71 + 73 + 75 + 77 + 79 + 81 + 83 + 85 + 87 + 89 + 91 + 93 + 95 + 97 + 99 = 2500"
     ]
    }
   ],
   "source": [
    "#2b. Arithmetic sum.\n",
    "\n",
    "sum = 0\n",
    "for i in range (1,101,2):\n",
    "    sum = sum +i\n",
    "\n",
    "    print(i, end=\"\")\n",
    "    if i != 99:\n",
    "        print(\" + \", end=\"\")\n",
    "\n",
    "    if i == 99:\n",
    "        print(f\" = {sum}\", end=\"\")"
   ]
  },
  {
   "cell_type": "code",
   "execution_count": 12,
   "metadata": {},
   "outputs": [
    {
     "name": "stdout",
     "output_type": "stream",
     "text": [
      "0 6 12 18 24 30 36 42 48 54 60 "
     ]
    }
   ],
   "source": [
    "#3a. Multiplication table.\n",
    "\n",
    "for i in range (0,11):\n",
    "    mult=i*6\n",
    "    print(mult, end = \" \")"
   ]
  },
  {
   "cell_type": "code",
   "execution_count": 2,
   "metadata": {},
   "outputs": [
    {
     "name": "stdout",
     "output_type": "stream",
     "text": [
      " Your 5th multiplication table from 5 to 12: 60\n"
     ]
    }
   ],
   "source": [
    "#3b. Multiplication table.\n",
    "\n",
    "table = int(input(\"Which table are you intrested in? \"))\n",
    "table_start = int(input(\"Specify start of table: \"))\n",
    "table_end = int(input(\"Specify end of table: \"))\n",
    "for i in range (table_start,table_end+1):\n",
    "    mult=i*table\n",
    "print(f\" Your {table}th multiplication table from {table_start} to {table_end}: {mult}\")"
   ]
  },
  {
   "cell_type": "code",
   "execution_count": 1,
   "metadata": {},
   "outputs": [
    {
     "name": "stdout",
     "output_type": "stream",
     "text": [
      "   0   0   0   0   0   0   0   0   0   0   0\n",
      "   0   1   2   3   4   5   6   7   8   9  10\n",
      "   0   2   4   6   8  10  12  14  16  18  20\n",
      "   0   3   6   9  12  15  18  21  24  27  30\n",
      "   0   4   8  12  16  20  24  28  32  36  40\n",
      "   0   5  10  15  20  25  30  35  40  45  50\n",
      "   0   6  12  18  24  30  36  42  48  54  60\n",
      "   0   7  14  21  28  35  42  49  56  63  70\n",
      "   0   8  16  24  32  40  48  56  64  72  80\n",
      "   0   9  18  27  36  45  54  63  72  81  90\n",
      "   0  10  20  30  40  50  60  70  80  90 100\n"
     ]
    }
   ],
   "source": [
    "#3c. Multiplication table.\n",
    "\n",
    "number = 0\n",
    "for i in range (0,11):\n",
    "    for j in range(0,11):\n",
    "        number = i*j\n",
    "        print (f\"{number :4}\", end=\"\")\n",
    "    print ()"
   ]
  },
  {
   "cell_type": "code",
   "execution_count": 14,
   "metadata": {},
   "outputs": [
    {
     "name": "stdout",
     "output_type": "stream",
     "text": [
      "Faculti of number 5 is 120\n"
     ]
    }
   ],
   "source": [
    "#4. Faculty.\n",
    "\n",
    "n = int(input(\"Input a number to calculate faculti: \"))\n",
    "n_fac = 1\n",
    "for i in range (1,n+1):\n",
    "    n_fac = n_fac*i\n",
    "print (f\"Faculti of number {n} is {n_fac}\")"
   ]
  },
  {
   "cell_type": "code",
   "execution_count": 6,
   "metadata": {},
   "outputs": [
    {
     "name": "stdout",
     "output_type": "stream",
     "text": [
      "The final guess is 6487\n",
      "The computer guess is 6487\n"
     ]
    }
   ],
   "source": [
    "#5. Guess the number.\n",
    "\n",
    "import random as rnd\n",
    "\n",
    "com_random_number = rnd.randint(1000,9999)\n",
    "\n",
    "for n in range (1000,10000):\n",
    "    if n == com_random_number:\n",
    "        print (f\"The final guess is {n}\")\n",
    "        print (f\"The computer guess is {com_random_number}\")"
   ]
  },
  {
   "cell_type": "code",
   "execution_count": 51,
   "metadata": {},
   "outputs": [
    {
     "name": "stdout",
     "output_type": "stream",
     "text": [
      "18446744073709551615 number of grains\n"
     ]
    }
   ],
   "source": [
    "#6. Rice on chessboard.\n",
    "\n",
    "sum = 0\n",
    "grain = 1\n",
    "for i in range (1,65):\n",
    "    sum = sum + grain\n",
    "    grain*=2\n",
    "    \n",
    "print(f\"{sum} number of grains\")"
   ]
  }
 ],
 "metadata": {
  "kernelspec": {
   "display_name": ".venv",
   "language": "python",
   "name": "python3"
  },
  "language_info": {
   "codemirror_mode": {
    "name": "ipython",
    "version": 3
   },
   "file_extension": ".py",
   "mimetype": "text/x-python",
   "name": "python",
   "nbconvert_exporter": "python",
   "pygments_lexer": "ipython3",
   "version": "3.12.6"
  }
 },
 "nbformat": 4,
 "nbformat_minor": 2
}
