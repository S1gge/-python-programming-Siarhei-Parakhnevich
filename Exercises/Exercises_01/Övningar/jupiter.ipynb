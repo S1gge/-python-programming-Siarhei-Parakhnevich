{
 "cells": [
  {
   "cell_type": "code",
   "execution_count": 10,
   "metadata": {},
   "outputs": [
    {
     "name": "stdout",
     "output_type": "stream",
     "text": [
      "Du får se filmen.\n"
     ]
    }
   ],
   "source": [
    "age = int(input(\"Enter your age: \"))\n",
    "age_limit = 15\n",
    "\n",
    "if age >= age_limit:\n",
    "    print (\"Du får se filmen.\")\n",
    "else:\n",
    "    print (\"Åldersgräns är 15 år, provaen annan film.\")"
   ]
  },
  {
   "cell_type": "code",
   "execution_count": 11,
   "metadata": {},
   "outputs": [
    {
     "name": "stdout",
     "output_type": "stream",
     "text": [
      "Even number!\n"
     ]
    }
   ],
   "source": [
    "number = 6\n",
    "if number % 2 == 0:\n",
    "    print(\"Even number!\")\n",
    "if number % 2 != 0:\n",
    "    print(\"Odd number!\")"
   ]
  },
  {
   "cell_type": "code",
   "execution_count": 12,
   "metadata": {},
   "outputs": [
    {
     "name": "stdout",
     "output_type": "stream",
     "text": [
      "Give patient 750mg\n"
     ]
    }
   ],
   "source": [
    "weight = float(input(\"Input your weight (kg): \"))\n",
    "if weight < 20:\n",
    "    print(\"Give patient 500mg\")\n",
    "elif weight < 40:\n",
    "    print(\"Give patient 750mg\")\n",
    "else:\n",
    "    print(\"Give patient 1000mg\")"
   ]
  },
  {
   "cell_type": "code",
   "execution_count": 13,
   "metadata": {},
   "outputs": [],
   "source": [
    "a = 3 < 2\n",
    "b = 3 <= 3\n",
    "c = 4 > 2\n",
    "d = 5 >= 4\n",
    "e = 5 == 5\n",
    "f = 5 != 4\n",
    "g = 3 > 2 and 2 > 1\n",
    "h = 3 > 3 or 3 < 2\n",
    "i = not False == True\n",
    "j = not i\n",
    "p = \"a2\" < \"aa\""
   ]
  },
  {
   "cell_type": "code",
   "execution_count": 18,
   "metadata": {},
   "outputs": [
    {
     "name": "stdout",
     "output_type": "stream",
     "text": [
      "Still true 0\n",
      "Still true 2\n",
      "Still true 4\n",
      "Still true 6\n",
      "Still true 8\n",
      "Still true 10\n"
     ]
    }
   ],
   "source": [
    "loop = True\n",
    "n = 0\n",
    "while loop:\n",
    "    print(f\"Still true {n}\")\n",
    "    n = n + 2\n",
    "    if n > 10:\n",
    "        loop = False"
   ]
  },
  {
   "cell_type": "code",
   "execution_count": 20,
   "metadata": {},
   "outputs": [
    {
     "name": "stdout",
     "output_type": "stream",
     "text": [
      "Year 0, 80000 birds\n",
      "Year 1, 40000 birds\n",
      "Year 2, 20000 birds\n",
      "Year 3, 10000 birds\n",
      "It takes 4 years for the birds to reach one tenth.\n"
     ]
    }
   ],
   "source": [
    "#Example - oil leakage\n",
    "#There is an oil leakage cousing the bird population on an island to halve each year.\n",
    "\n",
    "birds = 80000\n",
    "year = 0 \n",
    "\n",
    "while birds > 8000:\n",
    "    print(f\"Year {year}, {birds:.0f} birds\")\n",
    "    birds /= 2\n",
    "    year += 1\n",
    "\n",
    "print(f\"It takes {year} years for the birds to reach one tenth.\")"
   ]
  },
  {
   "cell_type": "code",
   "execution_count": 21,
   "metadata": {},
   "outputs": [
    {
     "name": "stdout",
     "output_type": "stream",
     "text": [
      "-9 -7 -5 -3 -1 1 3 5 7 9 "
     ]
    }
   ],
   "source": [
    "n = -9\n",
    "while n <= 10:\n",
    "    print(n, end=\" \")\n",
    "    n += 2"
   ]
  },
  {
   "cell_type": "code",
   "execution_count": null,
   "metadata": {},
   "outputs": [],
   "source": [
    "import random as rng\n",
    "\n",
    "while True:\n",
    "    number1 = rng.randint(1,10)\n",
    "    number2 = rng.randint(1,10)\n",
    "\n",
    "    user_answer = int(input(f\"What is {number1} * {number2} ?\"))\n",
    "    if user_answer == number1*number2:\n",
    "        print(\"Correct!\")\n",
    "    else:\n",
    "        print(f\"{user_answer} is wrong!\")\n",
    "\n",
    "    play_again = input(\"Want to play again? (y for yes)\")\n",
    "\n",
    "    if play_again != \"y\":\n",
    "        print(\"Good bye!\")\n",
    "        break\n"
   ]
  },
  {
   "cell_type": "code",
   "execution_count": 23,
   "metadata": {},
   "outputs": [
    {
     "name": "stdout",
     "output_type": "stream",
     "text": [
      "1\n",
      "3\n",
      "5\n",
      "7\n",
      "9\n"
     ]
    }
   ],
   "source": [
    "for i in range(1,10,2):\n",
    "    print(i)"
   ]
  },
  {
   "cell_type": "code",
   "execution_count": 24,
   "metadata": {},
   "outputs": [
    {
     "name": "stdout",
     "output_type": "stream",
     "text": [
      "1\n",
      "2\n",
      "3\n",
      "4\n",
      "5\n",
      "6\n",
      "7\n",
      "8\n",
      "9\n",
      "10\n"
     ]
    }
   ],
   "source": [
    "ls = [1,2,3,4,5,6,7,8,9,10]\n",
    "\n",
    "for l in ls:\n",
    "    print(l)"
   ]
  },
  {
   "cell_type": "code",
   "execution_count": 28,
   "metadata": {},
   "outputs": [
    {
     "name": "stdout",
     "output_type": "stream",
     "text": [
      "a aval\n",
      "b bval\n",
      "c cval\n"
     ]
    }
   ],
   "source": [
    "ds = {\"a\": \"aval\", \"b\": \"bval\", \"c\": \"cval\"}\n",
    "\n",
    "for k,v in ds.items():\n",
    "    print(k,v)"
   ]
  },
  {
   "cell_type": "code",
   "execution_count": 29,
   "metadata": {},
   "outputs": [
    {
     "name": "stdout",
     "output_type": "stream",
     "text": [
      "0. apple\n",
      "1. orange\n",
      "2. strawberry\n",
      "3. åkerbär\n"
     ]
    }
   ],
   "source": [
    "fruits = [\"apple\", \"orange\", \"strawberry\", \"åkerbär\"]\n",
    "\n",
    "for i,f in enumerate(fruits):\n",
    "    print(f\"{i}. {f}\")"
   ]
  },
  {
   "cell_type": "code",
   "execution_count": 31,
   "metadata": {},
   "outputs": [
    {
     "name": "stdout",
     "output_type": "stream",
     "text": [
      "1 + 3 + 5 + 7 + 9 + 11 + 13 + 15 + 17 + 19 = 100 "
     ]
    }
   ],
   "source": [
    "sum = 0\n",
    "\n",
    "for i in range (1,20,2):\n",
    "    sum += i\n",
    "\n",
    "    print (i, end = \" \")\n",
    "\n",
    "    if i != 19:\n",
    "        print (\"+\", end = \" \")\n",
    "    if i == 19:\n",
    "        print (f\"= {sum}\", end = \" \")"
   ]
  },
  {
   "cell_type": "code",
   "execution_count": 33,
   "metadata": {},
   "outputs": [
    {
     "name": "stdout",
     "output_type": "stream",
     "text": [
      "(0, 0) (0, 1) (0, 2) (0, 3) \n",
      "(1, 0) (1, 1) (1, 2) (1, 3) \n",
      "(2, 0) (2, 1) (2, 2) (2, 3) \n"
     ]
    }
   ],
   "source": [
    "for x in range (0,3):\n",
    "    for y in range(0,4):\n",
    "        print(f\"({x}, {y})\", end = \" \")\n",
    "    print()\n"
   ]
  },
  {
   "cell_type": "code",
   "execution_count": 34,
   "metadata": {},
   "outputs": [
    {
     "name": "stdout",
     "output_type": "stream",
     "text": [
      "Number of sixes 1683 in 10000 dice rolls.\n",
      "Probability of six: 0.1683\n"
     ]
    }
   ],
   "source": [
    "import random as rng\n",
    "num_sixes = 0\n",
    "dice_rolls = 10000\n",
    "\n",
    "for i in range(dice_rolls):\n",
    "    dice = rng.randint(1,6)\n",
    "    if dice == 6:\n",
    "        num_sixes += 1\n",
    "\n",
    "print (f\"Number of sixes {num_sixes} in {dice_rolls} dice rolls.\")\n",
    "print(f\"Probability of six: {num_sixes / dice_rolls}\")"
   ]
  }
 ],
 "metadata": {
  "kernelspec": {
   "display_name": ".venv",
   "language": "python",
   "name": "python3"
  },
  "language_info": {
   "codemirror_mode": {
    "name": "ipython",
    "version": 3
   },
   "file_extension": ".py",
   "mimetype": "text/x-python",
   "name": "python",
   "nbconvert_exporter": "python",
   "pygments_lexer": "ipython3",
   "version": "3.12.6"
  }
 },
 "nbformat": 4,
 "nbformat_minor": 2
}
