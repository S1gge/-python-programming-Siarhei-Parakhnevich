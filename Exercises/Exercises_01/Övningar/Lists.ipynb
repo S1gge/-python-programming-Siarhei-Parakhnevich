{
 "cells": [
  {
   "cell_type": "code",
   "execution_count": 7,
   "metadata": {},
   "outputs": [
    {
     "name": "stdout",
     "output_type": "stream",
     "text": [
      "tv_shows[0]: Antikrunda\n",
      "tv_shows[1]: Mästerkockarna\n",
      "tv_shows[-1]: Talang\n",
      "Added an element: ['Vetenskapens värld', 'Mästerkockarna', 'Aktuellt', 'Talang', 'Pokemon']\n",
      "['Mästerkockarna', 'Aktuellt']\n"
     ]
    }
   ],
   "source": [
    "tv_shows = [\"Antikrunda\",\"Mästerkockarna\", \"Aktuellt\", \"Talang\"]\n",
    "print(f\"tv_shows[0]: {tv_shows[0]}\")\n",
    "print(f\"tv_shows[1]: {tv_shows[1]}\")\n",
    "print(f\"tv_shows[-1]: {tv_shows[-1]}\")\n",
    "\n",
    "tv_shows[0] = \"Vetenskapens värld\"\n",
    "tv_shows.append(\"Pokemon\")\n",
    "\n",
    "print(f\"Added an element: {tv_shows}\")\n",
    "\n",
    "print(tv_shows[1:3])"
   ]
  },
  {
   "cell_type": "code",
   "execution_count": 9,
   "metadata": {},
   "outputs": [
    {
     "name": "stdout",
     "output_type": "stream",
     "text": [
      "['zeta', 'iota', 'gamma', 'beta', 'alfa'] ['zeta', 'iota', 'gamma', 'beta', 'alfa']\n"
     ]
    }
   ],
   "source": [
    "greek_letters = [\"beta\", \"alfa\", \"zeta\", \"gamma\", \"iota\"]\n",
    "sort_letters = sorted(greek_letters, reverse = True)\n",
    "greek_letters.sort(reverse = True)\n",
    "print(greek_letters, sort_letters)"
   ]
  },
  {
   "cell_type": "code",
   "execution_count": 3,
   "metadata": {},
   "outputs": [
    {
     "data": {
      "text/plain": [
       "[2, 4]"
      ]
     },
     "execution_count": 3,
     "metadata": {},
     "output_type": "execute_result"
    }
   ],
   "source": [
    "[x for x in range(1,11)]\n",
    "\n",
    "ls =[1,2,3,4,5]\n",
    "[l for l in ls if l%2 == 0]"
   ]
  },
  {
   "cell_type": "code",
   "execution_count": 4,
   "metadata": {},
   "outputs": [
    {
     "data": {
      "text/plain": [
       "{1, 2, 3, 4, 5, 6, 7, 8, 9, 10}"
      ]
     },
     "execution_count": 4,
     "metadata": {},
     "output_type": "execute_result"
    }
   ],
   "source": [
    "{i for i in range(1,11)}"
   ]
  },
  {
   "cell_type": "code",
   "execution_count": 7,
   "metadata": {},
   "outputs": [
    {
     "data": {
      "image/png": "[encoded data removed]",
      "text/plain": [
       "<Figure size 640x480 with 1 Axes>"
      ]
     },
     "metadata": {},
     "output_type": "display_data"
    }
   ],
   "source": [
    "import matplotlib.pyplot as plt\n",
    "x = list(range(10))\n",
    "k = 2\n",
    "m = 2\n",
    "y = [k*x + m for x in x]\n",
    "\n",
    "plt.plot(x,y)\n",
    "plt.title(\"plot y = 2x +2\")\n",
    "plt.xlabel(\"x\")\n",
    "plt.ylabel(\"y\")\n",
    "plt.grid(\"on\")"
   ]
  },
  {
   "cell_type": "code",
   "execution_count": 1,
   "metadata": {},
   "outputs": [
    {
     "name": "stdout",
     "output_type": "stream",
     "text": [
      "['katt', 'hatt']\n"
     ]
    }
   ],
   "source": [
    "# Regular expressioons\n",
    "\n",
    "import re\n",
    "\n",
    "text = \"Det var en gång en katt som tog på sig en hatt.\"\n",
    "match_list = re.findall(r\".att\", text)\n",
    "print(match_list)\n"
   ]
  },
  {
   "cell_type": "code",
   "execution_count": 2,
   "metadata": {},
   "outputs": [
    {
     "name": "stdout",
     "output_type": "stream",
     "text": [
      "YYMMDD-XX: ['19950221-1234', '19580319-1456', '19920629-3213', '19940501-3232']\n"
     ]
    }
   ],
   "source": [
    "person_numbers = \"Ida:19950221-1234, Berit: 19580319-1456, Ada:19920629-3213, Fel: 19940501-3232\"\n",
    "match_long = re.findall(r\"\\d{8}-\\d{4}\", person_numbers)\n",
    "print(f\"YYYYMMDD-XXX: {match_long}\")"
   ]
  },
  {
   "cell_type": "code",
   "execution_count": 3,
   "metadata": {},
   "outputs": [
    {
     "name": "stdout",
     "output_type": "stream",
     "text": [
      "YYYYMMDD-XXX: ['950221-1234', '580319-1456', '920629-3213', '940501-3232']\n"
     ]
    }
   ],
   "source": [
    "match_short = re.findall(r\"\\d{6}-\\d{4}\", person_numbers)\n",
    "print(f\"YYYYMMDD-XXX: {match_short}\")"
   ]
  },
  {
   "cell_type": "code",
   "execution_count": 4,
   "metadata": {},
   "outputs": [
    {
     "name": "stdout",
     "output_type": "stream",
     "text": [
      "['19950221-1234', '19580319-1456', '19920629-3213', '19940501-3232']\n"
     ]
    }
   ],
   "source": [
    "my_match = re.findall(r\"\\d+-\\d+\", person_numbers)\n",
    "print(my_match)"
   ]
  }
 ],
 "metadata": {
  "kernelspec": {
   "display_name": ".venv",
   "language": "python",
   "name": "python3"
  },
  "language_info": {
   "codemirror_mode": {
    "name": "ipython",
    "version": 3
   },
   "file_extension": ".py",
   "mimetype": "text/x-python",
   "name": "python",
   "nbconvert_exporter": "python",
   "pygments_lexer": "ipython3",
   "version": "3.12.6"
  }
 },
 "nbformat": 4,
 "nbformat_minor": 2
}
