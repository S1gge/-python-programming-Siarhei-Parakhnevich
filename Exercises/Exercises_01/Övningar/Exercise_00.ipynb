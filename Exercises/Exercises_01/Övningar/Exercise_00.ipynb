{
 "cells": [
  {
   "cell_type": "code",
   "execution_count": 6,
   "metadata": {},
   "outputs": [
    {
     "name": "stdout",
     "output_type": "stream",
     "text": [
      "The hypothenuse of the triangel is 5 length units.\n"
     ]
    }
   ],
   "source": [
    "#1.1\n",
    "\n",
    "import math\n",
    "a = 3\n",
    "b = 4\n",
    "c = math.sqrt(a**2 + b**2)\n",
    "print(f\"The hypothenuse of the triangel is {c:.0f} length units.\")"
   ]
  },
  {
   "cell_type": "code",
   "execution_count": 8,
   "metadata": {},
   "outputs": [
    {
     "name": "stdout",
     "output_type": "stream",
     "text": [
      "The cathetus of the triangel is 4.9 length units.\n"
     ]
    }
   ],
   "source": [
    "#1.2\n",
    "\n",
    "import math\n",
    "a = 5\n",
    "c = 7\n",
    "b = math.sqrt(c**2 - a**2)\n",
    "print(f\"The cathetus of the triangel is {b:.1f} length units.\")"
   ]
  },
  {
   "cell_type": "code",
   "execution_count": 9,
   "metadata": {},
   "outputs": [
    {
     "name": "stdout",
     "output_type": "stream",
     "text": [
      "The accuracy of the model is 1.22\n"
     ]
    }
   ],
   "source": [
    "#2\n",
    "\n",
    "predict = 365\n",
    "correct = 300\n",
    "accuracy = predict/correct\n",
    "print(f\"The accuracy of this model is {accuracy:.2f}.\")"
   ]
  },
  {
   "cell_type": "code",
   "execution_count": 11,
   "metadata": {},
   "outputs": [
    {
     "name": "stdout",
     "output_type": "stream",
     "text": [
      "The accuracy of the model is 0.987\n"
     ]
    }
   ],
   "source": [
    "#3\n",
    "\n",
    "TP = 2\n",
    "FP = 2\n",
    "FN = 11\n",
    "TN = 985\n",
    "\n",
    "accuracy=(TP+TN)/(TP+TN+FP+FN)\n",
    "\n",
    "print(f\"The accuracy of this model is {accuracy:.3f}.\")"
   ]
  },
  {
   "cell_type": "code",
   "execution_count": 18,
   "metadata": {},
   "outputs": [
    {
     "name": "stdout",
     "output_type": "stream",
     "text": [
      "k = 0.75, m = 1, so the equation for the slope is y = 0.75x + 1\n"
     ]
    }
   ],
   "source": [
    "#4\n",
    "\n",
    "x1 = 4\n",
    "y1 = 4\n",
    "x2 = 0\n",
    "y2 = 1\n",
    "\n",
    "k = (y2-y1)/(x2-x1)\n",
    "m = y1 - k*x1\n",
    "print (f\"k = {k}, m = {m:.0f}, so the equation for the slope is y = {k}x + {m:.0f}\")"
   ]
  },
  {
   "cell_type": "code",
   "execution_count": 20,
   "metadata": {},
   "outputs": [
    {
     "name": "stdout",
     "output_type": "stream",
     "text": [
      "The distance is around 5.1 length units\n"
     ]
    }
   ],
   "source": [
    "#5\n",
    "\n",
    "import math\n",
    "x1 = 3      #point1 = [3,5]\n",
    "y1 = 5\n",
    "x2 = -2     #point2 = [-2,4]\n",
    "y2 = 4\n",
    "\n",
    "distance = math.sqrt((x2-x1)**2+(y2-y1)**2)\n",
    "\n",
    "print(f\"The distance is around {distance:.1f} length units.\")\n"
   ]
  },
  {
   "cell_type": "code",
   "execution_count": 21,
   "metadata": {},
   "outputs": [
    {
     "name": "stdout",
     "output_type": "stream",
     "text": [
      "The distance is around 4.12 l.u.\n"
     ]
    }
   ],
   "source": [
    "#6\n",
    "import math\n",
    "p1 = 2\n",
    "p2 = 1\n",
    "p3 = 4\n",
    "\n",
    "q1 = 3\n",
    "q2 = 1\n",
    "q3 = 0\n",
    "\n",
    "d = math.sqrt((p1-q1)**2+(p2-q2)**2+(p3-q3)**2)\n",
    "\n",
    "print(f\"The distance is around {d:.2f} l.u.\")"
   ]
  }
 ],
 "metadata": {
  "kernelspec": {
   "display_name": ".venv",
   "language": "python",
   "name": "python3"
  },
  "language_info": {
   "codemirror_mode": {
    "name": "ipython",
    "version": 3
   },
   "file_extension": ".py",
   "mimetype": "text/x-python",
   "name": "python",
   "nbconvert_exporter": "python",
   "pygments_lexer": "ipython3",
   "version": "3.12.6"
  }
 },
 "nbformat": 4,
 "nbformat_minor": 2
}
