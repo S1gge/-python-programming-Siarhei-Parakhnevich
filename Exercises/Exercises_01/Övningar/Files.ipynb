{
 "cells": [
  {
   "cell_type": "code",
   "execution_count": 1,
   "metadata": {},
   "outputs": [
    {
     "name": "stdout",
     "output_type": "stream",
     "text": [
      "Testing\n"
     ]
    }
   ],
   "source": [
    "path = \"textfil.txt\"\n",
    "\n",
    "with open(path, 'r') as file:\n",
    "    print(file.read())"
   ]
  },
  {
   "cell_type": "code",
   "execution_count": 4,
   "metadata": {},
   "outputs": [
    {
     "name": "stdout",
     "output_type": "stream",
     "text": [
      "Testinghejhej\n"
     ]
    }
   ],
   "source": [
    "path = \"textfil.txt\"\n",
    "\n",
    "with open(path, 'a') as file:\n",
    "    file.write(\"hej\")\n",
    "\n",
    "with open(path, 'r') as file:\n",
    "    print(file.read())"
   ]
  },
  {
   "cell_type": "code",
   "execution_count": 7,
   "metadata": {},
   "outputs": [
    {
     "name": "stdout",
     "output_type": "stream",
     "text": [
      "ting \n"
     ]
    }
   ],
   "source": [
    "path = \"textfil.txt\"\n",
    "\n",
    "with open(path, 'r+') as file:\n",
    "    file.write(\"hej\")\n",
    "    print(file.read())"
   ]
  }
 ],
 "metadata": {
  "kernelspec": {
   "display_name": ".venv",
   "language": "python",
   "name": "python3"
  },
  "language_info": {
   "codemirror_mode": {
    "name": "ipython",
    "version": 3
   },
   "file_extension": ".py",
   "mimetype": "text/x-python",
   "name": "python",
   "nbconvert_exporter": "python",
   "pygments_lexer": "ipython3",
   "version": "3.12.6"
  }
 },
 "nbformat": 4,
 "nbformat_minor": 2
}
