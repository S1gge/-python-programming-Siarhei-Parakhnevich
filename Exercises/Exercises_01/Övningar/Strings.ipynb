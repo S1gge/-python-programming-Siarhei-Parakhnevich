{
 "cells": [
  {
   "cell_type": "code",
   "execution_count": 4,
   "metadata": {},
   "outputs": [
    {
     "name": "stdout",
     "output_type": "stream",
     "text": [
      "\n",
      "Name: Sigge Parakhnevich\n",
      "School: IT-Högskolan\n",
      "\n"
     ]
    }
   ],
   "source": [
    "firstname = \"Sigge\"\n",
    "lastname = \"Parakhnevich\"\n",
    "\n",
    "fullname = firstname + \" \" + lastname\n",
    "school = \"IT-Högskolan\"\n",
    "\n",
    "contact_details = f\"\"\"\n",
    "Name: {fullname}\n",
    "School: {school}\n",
    "\"\"\"\n",
    "print(contact_details)"
   ]
  },
  {
   "cell_type": "code",
   "execution_count": 5,
   "metadata": {},
   "outputs": [
    {
     "name": "stdout",
     "output_type": "stream",
     "text": [
      "Veckomeny\n",
      "Må: Chili\n",
      "Ti: Nudlar\n",
      "On: Pokebowl\n",
      "To: Pankakor\n",
      "Fr: Tacos\n",
      "\n"
     ]
    }
   ],
   "source": [
    "bamba = [\"Chili\", \"Nudlar\", \"Pokebowl\", \"Pankakor\", \"Tacos\"]\n",
    "days = [\"Må\", \"Ti\", \"On\", \"To\", \"Fr\"]\n",
    "\n",
    "meny = \"Veckomeny\\n\"\n",
    "for day, food in zip(days, bamba):\n",
    "    meny += f\"{day}: {food}\\n\"\n",
    "\n",
    "print(meny)"
   ]
  },
  {
   "cell_type": "code",
   "execution_count": 11,
   "metadata": {},
   "outputs": [
    {
     "name": "stdout",
     "output_type": "stream",
     "text": [
      "quote[0]: !\n",
      "quote[5:10]: e - i\n",
      "quote[-4]: T\n",
      "quote[-4:]: True\n",
      "quote[::-1]: eurT s'ti eusaceb ynnaf s'ti - eslaF!\n"
     ]
    }
   ],
   "source": [
    "quote = \"!False - it's fanny becasue it's True\"\n",
    "print(f\"quote[0]: {quote[0]}\")\n",
    "print(f\"quote[5:10]: {quote[5:10]}\")\n",
    "print(f\"quote[-4]: {quote[-4]}\")\n",
    "print(f\"quote[-4:]: {quote[-4:]}\")\n",
    "print(f\"quote[::-1]: {quote[::-1]}\")\n"
   ]
  },
  {
   "cell_type": "code",
   "execution_count": 15,
   "metadata": {},
   "outputs": [
    {
     "name": "stdout",
     "output_type": "stream",
     "text": [
      "['Math', ' biology', ' chemistry', ' programming']\n",
      "['MATH', 'BIOLOGY', 'CHEMISTRY', 'PROGRAMMING']\n"
     ]
    }
   ],
   "source": [
    "subjects = \"Math, biology, chemistry, programming\"\n",
    "split = subjects.split(\",\")\n",
    "print(split)\n",
    "\n",
    "striped = [sub.strip().upper() for sub in split]\n",
    "print(striped)"
   ]
  }
 ],
 "metadata": {
  "kernelspec": {
   "display_name": ".venv",
   "language": "python",
   "name": "python3"
  },
  "language_info": {
   "codemirror_mode": {
    "name": "ipython",
    "version": 3
   },
   "file_extension": ".py",
   "mimetype": "text/x-python",
   "name": "python",
   "nbconvert_exporter": "python",
   "pygments_lexer": "ipython3",
   "version": "3.12.6"
  }
 },
 "nbformat": 4,
 "nbformat_minor": 2
}
