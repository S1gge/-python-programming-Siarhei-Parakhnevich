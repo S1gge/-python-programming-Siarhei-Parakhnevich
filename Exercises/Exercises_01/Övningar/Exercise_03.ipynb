{
 "cells": [
  {
   "cell_type": "code",
   "execution_count": 2,
   "metadata": {},
   "outputs": [
    {
     "name": "stdout",
     "output_type": "stream",
     "text": [
      "-10 -9 -8 -7 -6 -5 -4 -3 -2 -1 0 1 2 3 4 5 6 7 8 9 10 "
     ]
    }
   ],
   "source": [
    "#1a\n",
    "\n",
    "for i in range (-10,11):\n",
    "    print(i, end = \" \")"
   ]
  },
  {
   "cell_type": "code",
   "execution_count": 3,
   "metadata": {},
   "outputs": [
    {
     "name": "stdout",
     "output_type": "stream",
     "text": [
      "-10 -8 -6 -4 -2 0 2 4 6 8 10 "
     ]
    }
   ],
   "source": [
    "#1b\n",
    "\n",
    "for i in range (-10,11,2):\n",
    "    print(i, end = \" \")"
   ]
  },
  {
   "cell_type": "code",
   "execution_count": 8,
   "metadata": {},
   "outputs": [
    {
     "name": "stdout",
     "output_type": "stream",
     "text": [
      "0 1 3 6 10 15 21 28 36 45 55 66 78 91 105 120 136 153 171 190 210 231 253 276 300 325 351 378 406 435 465 496 528 561 595 630 666 703 741 780 820 861 903 946 990 1035 1081 1128 1176 1225 1275 1326 1378 1431 1485 1540 1596 1653 1711 1770 1830 1891 1953 2016 2080 2145 2211 2278 2346 2415 2485 2556 2628 2701 2775 2850 2926 3003 3081 3160 3240 3321 3403 3486 3570 3655 3741 3828 3916 4005 4095 4186 4278 4371 4465 4560 4656 4753 4851 4950 5050 "
     ]
    }
   ],
   "source": [
    "#2a\n",
    "sum = 0\n",
    "for i in range (1,101):\n",
    "    sum = sum +i\n",
    "    print(sum, end = \" \")"
   ]
  },
  {
   "cell_type": "code",
   "execution_count": 25,
   "metadata": {},
   "outputs": [
    {
     "name": "stdout",
     "output_type": "stream",
     "text": [
      "1 + 3 + 5 + 7 + 9 + 11 + 13 + 15 + 17 + 19 + 21 + 23 + 25 + 27 + 29 + 31 + 33 + 35 + 37 + 39 + 41 + 43 + 45 + 47 + 49 + 51 + 53 + 55 + 57 + 59 + 61 + 63 + 65 + 67 + 69 + 71 + 73 + 75 + 77 + 79 + 81 + 83 + 85 + 87 + 89 + 91 + 93 + 95 + 97 + 99 + "
     ]
    }
   ],
   "source": [
    "#2b\n",
    "sum = 0\n",
    "for i in range (1,101,2):\n",
    "    sum = sum +i\n",
    "    print(i, end = \" + \")"
   ]
  },
  {
   "cell_type": "code",
   "execution_count": 12,
   "metadata": {},
   "outputs": [
    {
     "name": "stdout",
     "output_type": "stream",
     "text": [
      "0 6 12 18 24 30 36 42 48 54 60 "
     ]
    }
   ],
   "source": [
    "#3a\n",
    "\n",
    "for i in range (0,11):\n",
    "    mult=i*6\n",
    "    print(mult, end = \" \")"
   ]
  },
  {
   "cell_type": "code",
   "execution_count": 13,
   "metadata": {},
   "outputs": [
    {
     "name": "stdout",
     "output_type": "stream",
     "text": [
      " Your 1th multiplication table from 3 to 5: 3\n",
      " Your 1th multiplication table from 3 to 5: 4\n",
      " Your 1th multiplication table from 3 to 5: 5\n"
     ]
    }
   ],
   "source": [
    "#3b\n",
    "table = int(input(\"Which table are you intrested in? \"))\n",
    "table_start = int(input(\"Specify start of table: \"))\n",
    "table_end = int(input(\"Specify end of table: \"))\n",
    "for i in range (table_start,table_end+1):\n",
    "    mult=i*table\n",
    "    print(f\" Your {table}th multiplication table from {table_start} to {table_end}: {mult}\")"
   ]
  },
  {
   "cell_type": "code",
   "execution_count": null,
   "metadata": {},
   "outputs": [],
   "source": [
    "#3c\n",
    "\n",
    "number = 0\n",
    "for i in range (0,11):\n",
    "    for j in range(0,11):\n",
    "        number = i*j\n",
    "        print (f\"{number :4}\", end=\"\")\n",
    "    print ()"
   ]
  },
  {
   "cell_type": "code",
   "execution_count": 14,
   "metadata": {},
   "outputs": [
    {
     "name": "stdout",
     "output_type": "stream",
     "text": [
      "Faculti of number 5 is 120\n"
     ]
    }
   ],
   "source": [
    "#4\n",
    "\n",
    "n = int(input(\"Input a number to calculate faculti: \"))\n",
    "n_fac = 1\n",
    "for i in range (1,n+1):\n",
    "    n_fac = n_fac*i\n",
    "print (f\"Faculti of number {n} is {n_fac}\")"
   ]
  },
  {
   "cell_type": "code",
   "execution_count": 51,
   "metadata": {},
   "outputs": [
    {
     "name": "stdout",
     "output_type": "stream",
     "text": [
      "18446744073709551615 number of grains\n"
     ]
    }
   ],
   "source": [
    "#6\n",
    "\n",
    "sum = 0\n",
    "grain = 1\n",
    "for i in range (1,65):\n",
    "    sum = sum + grain\n",
    "    grain*=2\n",
    "    \n",
    "print(f\"{sum} number of grains\")"
   ]
  }
 ],
 "metadata": {
  "kernelspec": {
   "display_name": ".venv",
   "language": "python",
   "name": "python3"
  },
  "language_info": {
   "codemirror_mode": {
    "name": "ipython",
    "version": 3
   },
   "file_extension": ".py",
   "mimetype": "text/x-python",
   "name": "python",
   "nbconvert_exporter": "python",
   "pygments_lexer": "ipython3",
   "version": "3.12.6"
  }
 },
 "nbformat": 4,
 "nbformat_minor": 2
}
